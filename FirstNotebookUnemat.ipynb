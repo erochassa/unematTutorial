{
 "cells": [
  {
   "cell_type": "markdown",
   "metadata": {},
   "source": [
    "# Regressão linear\n",
    "\n",
    "Esse é o primeiro notebook do tutorial sobre deep learning "
   ]
  },
  {
   "cell_type": "markdown",
   "metadata": {},
   "source": [
    "Importa alguns modulos"
   ]
  },
  {
   "cell_type": "code",
   "execution_count": 1,
   "metadata": {
    "collapsed": true
   },
   "outputs": [],
   "source": [
    "import numpy as np\n",
    "from sklearn import datasets\n",
    "import matplotlib.pyplot as plt\n",
    "%matplotlib inline"
   ]
  },
  {
   "cell_type": "markdown",
   "metadata": {},
   "source": [
    "Nesse exemplo, usaremos um *dataset* sobre diabetes:"
   ]
  },
  {
   "cell_type": "code",
   "execution_count": 2,
   "metadata": {},
   "outputs": [],
   "source": [
    "diabetes = datasets.load_diabetes()"
   ]
  },
  {
   "cell_type": "markdown",
   "metadata": {},
   "source": [
    "Aqui, vamos usar apenas a coluna 2 que é o indice de massa corporea"
   ]
  },
  {
   "cell_type": "code",
   "execution_count": 3,
   "metadata": {},
   "outputs": [],
   "source": [
    "X=diabetes.data[:,2].reshape((-1,1))"
   ]
  },
  {
   "cell_type": "markdown",
   "metadata": {},
   "source": [
    "$y$ eh uma medida de progresso da diabetes depois de um ano"
   ]
  },
  {
   "cell_type": "code",
   "execution_count": 4,
   "metadata": {
    "collapsed": true
   },
   "outputs": [],
   "source": [
    "y=diabetes.target"
   ]
  },
  {
   "cell_type": "markdown",
   "metadata": {},
   "source": [
    "Visualizar o progresso da diabetes ($y$) como funcao da massa corporea ($y=f(X)$):"
   ]
  },
  {
   "cell_type": "code",
   "execution_count": 5,
   "metadata": {},
   "outputs": [
    {
     "data": {
      "text/plain": [
       "<matplotlib.collections.PathCollection at 0x2337890>"
      ]
     },
     "execution_count": 5,
     "metadata": {},
     "output_type": "execute_result"
    },
    {
     "data": {
      "image/png": "[encoded data removed]",
      "text/plain": [
       "<matplotlib.figure.Figure at 0x2337990>"
      ]
     },
     "metadata": {},
     "output_type": "display_data"
    }
   ],
   "source": [
    "plt.scatter(X,y)"
   ]
  },
  {
   "cell_type": "markdown",
   "metadata": {},
   "source": [
    "Parece haver uma tendencia nesse grafico. A medida que o indice de massa corporea aumenta, o progresso da diabetes aumenta.\n",
    "\n",
    "Nao exite uma unica reta que passe por todos os pontos. Mas gostariamos de achar uma reta que fosse o mais \"proximo\" possivel do conjunto de pontos.\n",
    "\n",
    "A equacao da reta eh:\n",
    "\n",
    "$y=f(X)=A \\cdot X+B$\n",
    "\n",
    "Com essa equacao poderemos prever a evolucao da diabetes como funcao da massa corporea. Mas para isso temos de achar os valores de $A$ e $B$."
   ]
  },
  {
   "cell_type": "markdown",
   "metadata": {},
   "source": [
    "Regressao linear nos ajudara como isso. Mas antes disso vamos reescrever a equacao da reta de uma forma mais conveniente:\n",
    "\n",
    "$$\n",
    "y=f(X)=\n",
    "\\begin{bmatrix}\n",
    "X & 1\n",
    "\\end{bmatrix}\n",
    "\\cdot\n",
    "\\begin{bmatrix}\n",
    "A\\\\\n",
    "B\n",
    "\\end{bmatrix}\n",
    "$$\n",
    "\n",
    "Tenha certeza que voce entende isso!\n",
    "\n",
    "Vamos abusar um pouco da notacao e chamar de $X$ a partir de agora isso: $\\begin{bmatrix}\n",
    "X & 1\n",
    "\\end{bmatrix}$. E $A$ isso: $\\begin{bmatrix}\n",
    "A\\\\\n",
    "B\n",
    "\\end{bmatrix}$"
   ]
  },
  {
   "cell_type": "markdown",
   "metadata": {},
   "source": [
    "Em python a mudanca de $X$ para $\\begin{bmatrix}\n",
    "X & 1\n",
    "\\end{bmatrix}$ é:"
   ]
  },
  {
   "cell_type": "code",
   "execution_count": 6,
   "metadata": {},
   "outputs": [],
   "source": [
    "X=np.hstack((X, np.ones_like(X)))"
   ]
  },
  {
   "cell_type": "markdown",
   "metadata": {},
   "source": [
    "lembre-se que o que queremos achar é (com a nova notacao):\n",
    "\n",
    "$y=f(X)=X\\cdot A$\n",
    "\n",
    "A melhor aproximacao é dada pela *equação normal*:\n",
    "\n",
    "$X^T\\cdot X \\cdot A = X^T \\cdot y$\n",
    "\n",
    "e para achar $A$:\n",
    "\n",
    "$A = (X^T\\cdot X)^{-1}\\cdot X^T \\cdot y$"
   ]
  },
  {
   "cell_type": "markdown",
   "metadata": {},
   "source": [
    "NAO ENTRE EM CHOQUE!!! Se vc nao viu isso (ou viu e fez questao de esquecer) nao se preocupe. Mas recomendo voce ver isso em seu curso de Algebra Linear!"
   ]
  },
  {
   "cell_type": "markdown",
   "metadata": {},
   "source": [
    "Em python a ultima equacao pode ser escrita como:"
   ]
  },
  {
   "cell_type": "code",
   "execution_count": 7,
   "metadata": {},
   "outputs": [],
   "source": [
    "A=np.dot( np.dot(np.linalg.inv(np.dot(X.T,X)),X.T), y )"
   ]
  },
  {
   "cell_type": "code",
   "execution_count": 8,
   "metadata": {},
   "outputs": [
    {
     "name": "stdout",
     "output_type": "stream",
     "text": [
      "[ 949.43526038  152.13348416]\n"
     ]
    }
   ],
   "source": [
    "print A"
   ]
  },
  {
   "cell_type": "markdown",
   "metadata": {},
   "source": [
    "Vamos prever com esses indices:"
   ]
  },
  {
   "cell_type": "code",
   "execution_count": 9,
   "metadata": {},
   "outputs": [],
   "source": [
    "X1=np.arange(-0.15,0.20, 0.01).reshape(-1, 1)\n",
    "X_predict = np.hstack((X1, np.ones_like(X1)))\n",
    "y_predict = np.dot(X_predict, A)"
   ]
  },
  {
   "cell_type": "code",
   "execution_count": 11,
   "metadata": {},
   "outputs": [
    {
     "data": {
      "text/plain": [
       "[<matplotlib.lines.Line2D at 0x493e710>]"
      ]
     },
     "execution_count": 11,
     "metadata": {},
     "output_type": "execute_result"
    },
    {
     "data": {
      "image/png": "[encoded data removed]",
      "text/plain": [
       "<matplotlib.figure.Figure at 0x47f3c50>"
      ]
     },
     "metadata": {},
     "output_type": "display_data"
    }
   ],
   "source": [
    "plt.scatter(X.T[0],y)\n",
    "plt.plot(X1, y_predict)"
   ]
  },
  {
   "cell_type": "code",
   "execution_count": null,
   "metadata": {
    "collapsed": true
   },
   "outputs": [],
   "source": []
  }
 ],
 "metadata": {
  "kernelspec": {
   "display_name": "Python 2",
   "language": "python",
   "name": "python2"
  },
  "language_info": {
   "codemirror_mode": {
    "name": "ipython",
    "version": 2
   },
   "file_extension": ".py",
   "mimetype": "text/x-python",
   "name": "python",
   "nbconvert_exporter": "python",
   "pygments_lexer": "ipython2",
   "version": "2.7.12"
  }
 },
 "nbformat": 4,
 "nbformat_minor": 1
}
